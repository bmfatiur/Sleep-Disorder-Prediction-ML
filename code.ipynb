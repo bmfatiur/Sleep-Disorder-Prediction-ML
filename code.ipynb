{
 "cells": [
  {
   "cell_type": "markdown",
   "id": "6c1155d5-dbe4-4eaf-97e0-ce2b905b1d71",
   "metadata": {},
   "source": [
    "### Import"
   ]
  },
  {
   "cell_type": "code",
   "execution_count": 18,
   "id": "8d6f912f-b52b-41c4-b70b-06ec3e25c121",
   "metadata": {},
   "outputs": [],
   "source": [
    "import os\n",
    "import pandas as pd\n",
    "from sklearn.ensemble import RandomForestClassifier\n",
    "from sklearn.metrics import accuracy_score, classification_report\n",
    "from sklearn.preprocessing import LabelEncoder\n",
    "from sklearn.model_selection import train_test_split\n",
    "import joblib"
   ]
  },
  {
   "cell_type": "markdown",
   "id": "3ba78346-77fd-41d1-9a37-d1cd75ab0b8f",
   "metadata": {},
   "source": [
    "### Load the dataset"
   ]
  },
  {
   "cell_type": "code",
   "execution_count": 19,
   "id": "3f8c47b8-904c-49f3-b808-c1e4e4ff75a5",
   "metadata": {},
   "outputs": [],
   "source": [
    "file_path = 'dataset.csv'\n",
    "df = pd.read_csv(file_path)"
   ]
  },
  {
   "cell_type": "markdown",
   "id": "e1592758-7307-4f19-b209-35a3da26a57c",
   "metadata": {},
   "source": [
    "### Select relevant columns including the \"Occupation\" column"
   ]
  },
  {
   "cell_type": "code",
   "execution_count": 20,
   "id": "d71eaea2-907e-49b9-a577-036b1e5db938",
   "metadata": {},
   "outputs": [],
   "source": [
    "selected_columns = ['Age', 'Gender', 'DailySteps', 'Occupation', 'Sleep Disorder']\n",
    "df = df[selected_columns]"
   ]
  },
  {
   "cell_type": "markdown",
   "id": "cdbcaf2a-2d0e-497a-a62d-6c00cb6c9d01",
   "metadata": {},
   "source": [
    "### Drop rows with missing values in the selected columns"
   ]
  },
  {
   "cell_type": "code",
   "execution_count": 21,
   "id": "acaa1fc5-c615-4114-9bd2-36d4a6bae501",
   "metadata": {},
   "outputs": [],
   "source": [
    "df.dropna(subset=selected_columns, inplace=True)"
   ]
  },
  {
   "cell_type": "markdown",
   "id": "1ac4d169-cb19-4f79-b942-25ec390d66f0",
   "metadata": {},
   "source": [
    "### Convert categorical variables to numerical using label encoding"
   ]
  },
  {
   "cell_type": "code",
   "execution_count": 22,
   "id": "62c2ecd4-7275-43db-9a3c-bd4e5abc50e3",
   "metadata": {},
   "outputs": [],
   "source": [
    "label_encoder_gender = LabelEncoder()\n",
    "label_encoder_sleep_disorder = LabelEncoder()\n",
    "label_encoder_occupation = LabelEncoder()"
   ]
  },
  {
   "cell_type": "markdown",
   "id": "f71647c6-b78b-4213-b7bb-af802e735d8e",
   "metadata": {},
   "source": [
    "### Fit label encoders"
   ]
  },
  {
   "cell_type": "code",
   "execution_count": 23,
   "id": "c00c2c78-f345-4d3d-aecc-881d7dc8b076",
   "metadata": {},
   "outputs": [],
   "source": [
    "df['Gender'] = label_encoder_gender.fit_transform(df['Gender'])\n",
    "df['Sleep Disorder'] = label_encoder_sleep_disorder.fit_transform(df['Sleep Disorder'])\n",
    "df['Occupation'] = label_encoder_occupation.fit_transform(df['Occupation'])"
   ]
  },
  {
   "cell_type": "markdown",
   "id": "17ec9a02-4699-4848-bc15-a7b755a2b51e",
   "metadata": {},
   "source": [
    "### Split the data into features (X) and target variable (y)"
   ]
  },
  {
   "cell_type": "code",
   "execution_count": 24,
   "id": "905c20f3-0710-46db-80a9-eba333d9175e",
   "metadata": {},
   "outputs": [],
   "source": [
    "X = df[['Age', 'Gender', 'DailySteps', 'Occupation']]\n",
    "y = df['Sleep Disorder']"
   ]
  },
  {
   "cell_type": "markdown",
   "id": "4e091078-ce64-447c-9095-7dc3a7de8e56",
   "metadata": {},
   "source": [
    "### Split the data into training and testing sets"
   ]
  },
  {
   "cell_type": "code",
   "execution_count": 25,
   "id": "c8962aec-4e00-40e1-a08f-2a3150f57e77",
   "metadata": {},
   "outputs": [],
   "source": [
    "X_train, X_test, y_train, y_test = train_test_split(X, y, test_size=0.2, random_state=42)"
   ]
  },
  {
   "cell_type": "markdown",
   "id": "c3da9104-78bc-461f-b86e-0fbc33824add",
   "metadata": {},
   "source": [
    "### Create a RandomForestClassifier model"
   ]
  },
  {
   "cell_type": "code",
   "execution_count": 26,
   "id": "47cfecfe-2523-443d-80cc-228fc30a0353",
   "metadata": {},
   "outputs": [],
   "source": [
    "model = RandomForestClassifier()"
   ]
  },
  {
   "cell_type": "markdown",
   "id": "6763f2f2-2256-4a66-a6c8-b20bf26f5714",
   "metadata": {},
   "source": [
    "### Train the model"
   ]
  },
  {
   "cell_type": "code",
   "execution_count": 27,
   "id": "30e07566-5a44-4751-8841-822f6391e239",
   "metadata": {},
   "outputs": [
    {
     "data": {
      "text/html": [
       "<style>#sk-container-id-2 {color: black;}#sk-container-id-2 pre{padding: 0;}#sk-container-id-2 div.sk-toggleable {background-color: white;}#sk-container-id-2 label.sk-toggleable__label {cursor: pointer;display: block;width: 100%;margin-bottom: 0;padding: 0.3em;box-sizing: border-box;text-align: center;}#sk-container-id-2 label.sk-toggleable__label-arrow:before {content: \"▸\";float: left;margin-right: 0.25em;color: #696969;}#sk-container-id-2 label.sk-toggleable__label-arrow:hover:before {color: black;}#sk-container-id-2 div.sk-estimator:hover label.sk-toggleable__label-arrow:before {color: black;}#sk-container-id-2 div.sk-toggleable__content {max-height: 0;max-width: 0;overflow: hidden;text-align: left;background-color: #f0f8ff;}#sk-container-id-2 div.sk-toggleable__content pre {margin: 0.2em;color: black;border-radius: 0.25em;background-color: #f0f8ff;}#sk-container-id-2 input.sk-toggleable__control:checked~div.sk-toggleable__content {max-height: 200px;max-width: 100%;overflow: auto;}#sk-container-id-2 input.sk-toggleable__control:checked~label.sk-toggleable__label-arrow:before {content: \"▾\";}#sk-container-id-2 div.sk-estimator input.sk-toggleable__control:checked~label.sk-toggleable__label {background-color: #d4ebff;}#sk-container-id-2 div.sk-label input.sk-toggleable__control:checked~label.sk-toggleable__label {background-color: #d4ebff;}#sk-container-id-2 input.sk-hidden--visually {border: 0;clip: rect(1px 1px 1px 1px);clip: rect(1px, 1px, 1px, 1px);height: 1px;margin: -1px;overflow: hidden;padding: 0;position: absolute;width: 1px;}#sk-container-id-2 div.sk-estimator {font-family: monospace;background-color: #f0f8ff;border: 1px dotted black;border-radius: 0.25em;box-sizing: border-box;margin-bottom: 0.5em;}#sk-container-id-2 div.sk-estimator:hover {background-color: #d4ebff;}#sk-container-id-2 div.sk-parallel-item::after {content: \"\";width: 100%;border-bottom: 1px solid gray;flex-grow: 1;}#sk-container-id-2 div.sk-label:hover label.sk-toggleable__label {background-color: #d4ebff;}#sk-container-id-2 div.sk-serial::before {content: \"\";position: absolute;border-left: 1px solid gray;box-sizing: border-box;top: 0;bottom: 0;left: 50%;z-index: 0;}#sk-container-id-2 div.sk-serial {display: flex;flex-direction: column;align-items: center;background-color: white;padding-right: 0.2em;padding-left: 0.2em;position: relative;}#sk-container-id-2 div.sk-item {position: relative;z-index: 1;}#sk-container-id-2 div.sk-parallel {display: flex;align-items: stretch;justify-content: center;background-color: white;position: relative;}#sk-container-id-2 div.sk-item::before, #sk-container-id-2 div.sk-parallel-item::before {content: \"\";position: absolute;border-left: 1px solid gray;box-sizing: border-box;top: 0;bottom: 0;left: 50%;z-index: -1;}#sk-container-id-2 div.sk-parallel-item {display: flex;flex-direction: column;z-index: 1;position: relative;background-color: white;}#sk-container-id-2 div.sk-parallel-item:first-child::after {align-self: flex-end;width: 50%;}#sk-container-id-2 div.sk-parallel-item:last-child::after {align-self: flex-start;width: 50%;}#sk-container-id-2 div.sk-parallel-item:only-child::after {width: 0;}#sk-container-id-2 div.sk-dashed-wrapped {border: 1px dashed gray;margin: 0 0.4em 0.5em 0.4em;box-sizing: border-box;padding-bottom: 0.4em;background-color: white;}#sk-container-id-2 div.sk-label label {font-family: monospace;font-weight: bold;display: inline-block;line-height: 1.2em;}#sk-container-id-2 div.sk-label-container {text-align: center;}#sk-container-id-2 div.sk-container {/* jupyter's `normalize.less` sets `[hidden] { display: none; }` but bootstrap.min.css set `[hidden] { display: none !important; }` so we also need the `!important` here to be able to override the default hidden behavior on the sphinx rendered scikit-learn.org. See: https://github.com/scikit-learn/scikit-learn/issues/21755 */display: inline-block !important;position: relative;}#sk-container-id-2 div.sk-text-repr-fallback {display: none;}</style><div id=\"sk-container-id-2\" class=\"sk-top-container\"><div class=\"sk-text-repr-fallback\"><pre>RandomForestClassifier()</pre><b>In a Jupyter environment, please rerun this cell to show the HTML representation or trust the notebook. <br />On GitHub, the HTML representation is unable to render, please try loading this page with nbviewer.org.</b></div><div class=\"sk-container\" hidden><div class=\"sk-item\"><div class=\"sk-estimator sk-toggleable\"><input class=\"sk-toggleable__control sk-hidden--visually\" id=\"sk-estimator-id-2\" type=\"checkbox\" checked><label for=\"sk-estimator-id-2\" class=\"sk-toggleable__label sk-toggleable__label-arrow\">RandomForestClassifier</label><div class=\"sk-toggleable__content\"><pre>RandomForestClassifier()</pre></div></div></div></div></div>"
      ],
      "text/plain": [
       "RandomForestClassifier()"
      ]
     },
     "execution_count": 27,
     "metadata": {},
     "output_type": "execute_result"
    }
   ],
   "source": [
    "model.fit(X_train, y_train)"
   ]
  },
  {
   "cell_type": "markdown",
   "id": "8f2a54fc-bae1-4034-b962-4e2d6ce9b7b0",
   "metadata": {},
   "source": [
    "### Print message indicating that the model is trained"
   ]
  },
  {
   "cell_type": "code",
   "execution_count": 28,
   "id": "54388bbb-39ab-49cb-9277-a2b8a7c09db3",
   "metadata": {},
   "outputs": [
    {
     "name": "stdout",
     "output_type": "stream",
     "text": [
      "Model trained successfully!\n"
     ]
    }
   ],
   "source": [
    "if model != None:\n",
    "    print('Model trained successfully!')\n",
    "else:\n",
    "    print('Model training ERROR!!!')"
   ]
  },
  {
   "cell_type": "markdown",
   "id": "7aa0d125-f7f6-4f0b-a2c6-93ccf9ba5872",
   "metadata": {},
   "source": [
    "### Evaluate the model on the test set"
   ]
  },
  {
   "cell_type": "code",
   "execution_count": 29,
   "id": "0bed7fd0-ebad-4bac-87e4-97c015560145",
   "metadata": {},
   "outputs": [],
   "source": [
    "y_pred = model.predict(X_test)"
   ]
  },
  {
   "cell_type": "markdown",
   "id": "5d8c3454-ba57-4147-9e76-3888fdb897c5",
   "metadata": {},
   "source": [
    "### Display accuracy and classification report"
   ]
  },
  {
   "cell_type": "code",
   "execution_count": 30,
   "id": "2a1aa787-4535-48d3-83c1-788dc16ceb10",
   "metadata": {},
   "outputs": [
    {
     "name": "stdout",
     "output_type": "stream",
     "text": [
      "Accuracy: 0.87\n",
      "Classification Report:\n",
      "              precision    recall  f1-score   support\n",
      "\n",
      "           0       0.86      0.86      0.86        14\n",
      "           1       0.88      0.88      0.88        17\n",
      "\n",
      "    accuracy                           0.87        31\n",
      "   macro avg       0.87      0.87      0.87        31\n",
      "weighted avg       0.87      0.87      0.87        31\n",
      "\n"
     ]
    }
   ],
   "source": [
    "accuracy = accuracy_score(y_test, y_pred)\n",
    "print(f'Accuracy: {accuracy:.2f}')\n",
    "print('Classification Report:')\n",
    "print(classification_report(y_test, y_pred))"
   ]
  },
  {
   "cell_type": "markdown",
   "id": "ff07fa88-f307-4355-b9cb-a142afc8d17b",
   "metadata": {},
   "source": [
    "### Interactive prediction loop (currently off)"
   ]
  },
  {
   "cell_type": "code",
   "execution_count": 31,
   "id": "0df0a8d0-8c85-490c-afe9-24d82239c71a",
   "metadata": {},
   "outputs": [],
   "source": [
    "# while True:\n",
    "#     # Take user input for new data\n",
    "#     age = float(input(\"Enter Age: \"))\n",
    "#     gender = input(\"Enter Gender (e.g., 'Male', 'Female'): \")\n",
    "#     daily_steps = float(input(\"Enter Daily Steps: \"))\n",
    "#     occupation = input(\"Enter Occupation: \")\n",
    "\n",
    "#     # Encode categorical variables\n",
    "#     gender_encoded = label_encoder_gender.transform([gender])[0]\n",
    "#     occupation_encoded = label_encoder_occupation.transform([occupation])[0]\n",
    "\n",
    "#     # Prepare input data for prediction\n",
    "#     new_data = [[age, gender_encoded, daily_steps, occupation_encoded]]\n",
    "\n",
    "#     # Make predictions for new data\n",
    "#     prediction = model.predict(new_data)\n",
    "\n",
    "#     # Mapping numeric labels to categories\n",
    "#     predicted_category = label_encoder_sleep_disorder.inverse_transform(prediction)\n",
    "\n",
    "#     print(f'Predicted Sleep Disorder: {predicted_category[0]}')\n",
    "\n",
    "#     # Ask the user if they want to make another prediction\n",
    "#     another_prediction = input(\"Do you want to make another prediction? (yes/no): \")\n",
    "#     if another_prediction.lower() != 'yes':\n",
    "#         break"
   ]
  },
  {
   "cell_type": "markdown",
   "id": "d566c6ea-4584-419b-bcf4-dca21830820d",
   "metadata": {},
   "source": [
    "### Save trained model"
   ]
  },
  {
   "cell_type": "code",
   "execution_count": 32,
   "id": "70a20d64-fc5b-4936-9f9b-8ac133c8ea4e",
   "metadata": {},
   "outputs": [
    {
     "name": "stdout",
     "output_type": "stream",
     "text": [
      "Model saved successfully as 'model.pkl'\n"
     ]
    }
   ],
   "source": [
    "model_file_path = \"model.pkl\"\n",
    "full_model_path = os.path.join(os.getcwd(), model_file_path)\n",
    "try:\n",
    "    joblib.dump(model, full_model_path)\n",
    "    print(\"Model saved successfully as 'model.pkl'\")\n",
    "except Exception as e:\n",
    "    print(f\"An error occurred while saving the model: {e}\")"
   ]
  },
  {
   "cell_type": "code",
   "execution_count": null,
   "id": "46c62a1a-872f-413b-aaff-918f798d66e5",
   "metadata": {},
   "outputs": [],
   "source": []
  }
 ],
 "metadata": {
  "kernelspec": {
   "display_name": "Python 3 (ipykernel)",
   "language": "python",
   "name": "python3"
  },
  "language_info": {
   "codemirror_mode": {
    "name": "ipython",
    "version": 3
   },
   "file_extension": ".py",
   "mimetype": "text/x-python",
   "name": "python",
   "nbconvert_exporter": "python",
   "pygments_lexer": "ipython3",
   "version": "3.10.12"
  }
 },
 "nbformat": 4,
 "nbformat_minor": 5
}
