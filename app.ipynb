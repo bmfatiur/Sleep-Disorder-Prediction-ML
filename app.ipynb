{
 "cells": [
  {
   "cell_type": "markdown",
   "id": "b352d2d7-a511-4e6d-a00d-cf5df5c4ac87",
   "metadata": {},
   "source": [
    "## Import"
   ]
  },
  {
   "cell_type": "code",
   "execution_count": 19,
   "id": "ae3b9fc9-838a-44e8-bd1c-403ec69c6ecb",
   "metadata": {},
   "outputs": [],
   "source": [
    "from flask import Flask, request, jsonify\n",
    "import pandas as pd\n",
    "import joblib\n",
    "from sklearn.preprocessing import LabelEncoder"
   ]
  },
  {
   "cell_type": "code",
   "execution_count": 20,
   "id": "fde81509-4da1-41e9-ab52-9c7e9556dfcc",
   "metadata": {},
   "outputs": [],
   "source": [
    "app = Flask(__name__)"
   ]
  },
  {
   "cell_type": "markdown",
   "id": "85090ff5-b66f-4f9b-bd95-8b54680d884f",
   "metadata": {},
   "source": [
    "### Load pre-trained model"
   ]
  },
  {
   "cell_type": "code",
   "execution_count": 21,
   "id": "36e77a28-b277-4e0c-9372-1799cc2a33a1",
   "metadata": {},
   "outputs": [],
   "source": [
    "model_file_path = 'model.pkl'\n",
    "try:\n",
    "    model = joblib.load(model_file_path)\n",
    "except Exception as e:\n",
    "    print(f\"An error occurred while loading the model: {e}\")\n",
    "    model = None"
   ]
  },
  {
   "cell_type": "markdown",
   "id": "b71d08d8-4929-4da5-8291-d07d2028d118",
   "metadata": {},
   "source": [
    "### Load label encoders"
   ]
  },
  {
   "cell_type": "code",
   "execution_count": 22,
   "id": "b3f213c9-e398-44d6-a912-60c886f9f956",
   "metadata": {},
   "outputs": [],
   "source": [
    "label_encoder_gender = LabelEncoder()\n",
    "label_encoder_sleep_disorder = LabelEncoder()\n",
    "label_encoder_occupation = LabelEncoder()"
   ]
  },
  {
   "cell_type": "markdown",
   "id": "f2a1ea15-70c6-4e02-936e-d563ec5593f3",
   "metadata": {},
   "source": [
    "### Load the dataset (for label encoder fitting)"
   ]
  },
  {
   "cell_type": "code",
   "execution_count": 23,
   "id": "23ef6ac9-dc1a-43d0-84ef-1c80a4b13a15",
   "metadata": {},
   "outputs": [],
   "source": [
    "# Sleep health & lifestyle\n",
    "file_path = 'dataset.csv'\n",
    "df = pd.read_csv(file_path)"
   ]
  },
  {
   "cell_type": "markdown",
   "id": "279edd0c-5339-4f19-a963-00152793ebd4",
   "metadata": {},
   "source": [
    "### Fit label encoders"
   ]
  },
  {
   "cell_type": "code",
   "execution_count": 24,
   "id": "4cda7e62-0162-4cfb-a859-12405bf52e40",
   "metadata": {},
   "outputs": [
    {
     "data": {
      "text/html": [
       "<style>#sk-container-id-3 {color: black;}#sk-container-id-3 pre{padding: 0;}#sk-container-id-3 div.sk-toggleable {background-color: white;}#sk-container-id-3 label.sk-toggleable__label {cursor: pointer;display: block;width: 100%;margin-bottom: 0;padding: 0.3em;box-sizing: border-box;text-align: center;}#sk-container-id-3 label.sk-toggleable__label-arrow:before {content: \"▸\";float: left;margin-right: 0.25em;color: #696969;}#sk-container-id-3 label.sk-toggleable__label-arrow:hover:before {color: black;}#sk-container-id-3 div.sk-estimator:hover label.sk-toggleable__label-arrow:before {color: black;}#sk-container-id-3 div.sk-toggleable__content {max-height: 0;max-width: 0;overflow: hidden;text-align: left;background-color: #f0f8ff;}#sk-container-id-3 div.sk-toggleable__content pre {margin: 0.2em;color: black;border-radius: 0.25em;background-color: #f0f8ff;}#sk-container-id-3 input.sk-toggleable__control:checked~div.sk-toggleable__content {max-height: 200px;max-width: 100%;overflow: auto;}#sk-container-id-3 input.sk-toggleable__control:checked~label.sk-toggleable__label-arrow:before {content: \"▾\";}#sk-container-id-3 div.sk-estimator input.sk-toggleable__control:checked~label.sk-toggleable__label {background-color: #d4ebff;}#sk-container-id-3 div.sk-label input.sk-toggleable__control:checked~label.sk-toggleable__label {background-color: #d4ebff;}#sk-container-id-3 input.sk-hidden--visually {border: 0;clip: rect(1px 1px 1px 1px);clip: rect(1px, 1px, 1px, 1px);height: 1px;margin: -1px;overflow: hidden;padding: 0;position: absolute;width: 1px;}#sk-container-id-3 div.sk-estimator {font-family: monospace;background-color: #f0f8ff;border: 1px dotted black;border-radius: 0.25em;box-sizing: border-box;margin-bottom: 0.5em;}#sk-container-id-3 div.sk-estimator:hover {background-color: #d4ebff;}#sk-container-id-3 div.sk-parallel-item::after {content: \"\";width: 100%;border-bottom: 1px solid gray;flex-grow: 1;}#sk-container-id-3 div.sk-label:hover label.sk-toggleable__label {background-color: #d4ebff;}#sk-container-id-3 div.sk-serial::before {content: \"\";position: absolute;border-left: 1px solid gray;box-sizing: border-box;top: 0;bottom: 0;left: 50%;z-index: 0;}#sk-container-id-3 div.sk-serial {display: flex;flex-direction: column;align-items: center;background-color: white;padding-right: 0.2em;padding-left: 0.2em;position: relative;}#sk-container-id-3 div.sk-item {position: relative;z-index: 1;}#sk-container-id-3 div.sk-parallel {display: flex;align-items: stretch;justify-content: center;background-color: white;position: relative;}#sk-container-id-3 div.sk-item::before, #sk-container-id-3 div.sk-parallel-item::before {content: \"\";position: absolute;border-left: 1px solid gray;box-sizing: border-box;top: 0;bottom: 0;left: 50%;z-index: -1;}#sk-container-id-3 div.sk-parallel-item {display: flex;flex-direction: column;z-index: 1;position: relative;background-color: white;}#sk-container-id-3 div.sk-parallel-item:first-child::after {align-self: flex-end;width: 50%;}#sk-container-id-3 div.sk-parallel-item:last-child::after {align-self: flex-start;width: 50%;}#sk-container-id-3 div.sk-parallel-item:only-child::after {width: 0;}#sk-container-id-3 div.sk-dashed-wrapped {border: 1px dashed gray;margin: 0 0.4em 0.5em 0.4em;box-sizing: border-box;padding-bottom: 0.4em;background-color: white;}#sk-container-id-3 div.sk-label label {font-family: monospace;font-weight: bold;display: inline-block;line-height: 1.2em;}#sk-container-id-3 div.sk-label-container {text-align: center;}#sk-container-id-3 div.sk-container {/* jupyter's `normalize.less` sets `[hidden] { display: none; }` but bootstrap.min.css set `[hidden] { display: none !important; }` so we also need the `!important` here to be able to override the default hidden behavior on the sphinx rendered scikit-learn.org. See: https://github.com/scikit-learn/scikit-learn/issues/21755 */display: inline-block !important;position: relative;}#sk-container-id-3 div.sk-text-repr-fallback {display: none;}</style><div id=\"sk-container-id-3\" class=\"sk-top-container\"><div class=\"sk-text-repr-fallback\"><pre>LabelEncoder()</pre><b>In a Jupyter environment, please rerun this cell to show the HTML representation or trust the notebook. <br />On GitHub, the HTML representation is unable to render, please try loading this page with nbviewer.org.</b></div><div class=\"sk-container\" hidden><div class=\"sk-item\"><div class=\"sk-estimator sk-toggleable\"><input class=\"sk-toggleable__control sk-hidden--visually\" id=\"sk-estimator-id-3\" type=\"checkbox\" checked><label for=\"sk-estimator-id-3\" class=\"sk-toggleable__label sk-toggleable__label-arrow\">LabelEncoder</label><div class=\"sk-toggleable__content\"><pre>LabelEncoder()</pre></div></div></div></div></div>"
      ],
      "text/plain": [
       "LabelEncoder()"
      ]
     },
     "execution_count": 24,
     "metadata": {},
     "output_type": "execute_result"
    }
   ],
   "source": [
    "label_encoder_gender.fit(df['Gender'])\n",
    "label_encoder_sleep_disorder.fit(df['Sleep Disorder'])\n",
    "label_encoder_occupation.fit(df['Occupation'])"
   ]
  },
  {
   "cell_type": "markdown",
   "id": "543ef272-787f-4513-9f51-68ecee46fb4f",
   "metadata": {},
   "source": [
    "### For prediction"
   ]
  },
  {
   "cell_type": "code",
   "execution_count": 25,
   "id": "cee28e29-20ae-4945-bb74-fe7fc4f7dce8",
   "metadata": {},
   "outputs": [],
   "source": [
    "@app.route('/predictsleep', methods=['POST'])\n",
    "def predict_sleep():\n",
    "    if model is None:\n",
    "        return jsonify({'error': 'Model not loaded!'}), 500\n",
    "\n",
    "    data = request.json\n",
    "    app.logger.info(\"Received data: %s\", data)\n",
    "\n",
    "    # Check if all required fields are present in the input data\n",
    "    required_fields = ['Age', 'Gender', 'DailySteps', 'Occupation']\n",
    "    if not all(field in data for field in required_fields):\n",
    "        return jsonify({'error': 'Missing required fields'}), 400\n",
    "\n",
    "    try:\n",
    "        # Prepare input data for prediction\n",
    "        age = float(data['Age'])\n",
    "        gender = data['Gender']\n",
    "        daily_steps = float(data['DailySteps'])\n",
    "        occupation = data['Occupation']\n",
    "\n",
    "        app.logger.info(\"Received input: Age=%s, Gender=%s, DailySteps=%s, Occupation=%s\", age, gender, daily_steps, occupation)\n",
    "\n",
    "        # Convert categorical variables to numerical using label encoding\n",
    "        gender_encoded = label_encoder_gender.transform([gender])[0]\n",
    "        occupation_encoded = label_encoder_occupation.transform([occupation])[0]\n",
    "\n",
    "        app.logger.info(\"Encoded Gender: %s\", gender_encoded)\n",
    "        app.logger.info(\"Encoded Occupation: %s\", occupation_encoded)\n",
    "\n",
    "        # Make predictions for new data\n",
    "        prediction = model.predict([[age, gender_encoded, daily_steps, occupation_encoded]])\n",
    "\n",
    "        app.logger.info(\"Prediction: %s\", prediction)\n",
    "\n",
    "        # Mapping numeric labels to categories\n",
    "        predicted_category = label_encoder_sleep_disorder.inverse_transform(prediction)\n",
    "\n",
    "        app.logger.info(\"Predicted category: %s\", predicted_category)\n",
    "\n",
    "        return jsonify({'predicted_sleep_disorder': predicted_category[0]})\n",
    "    except Exception as e:\n",
    "        app.logger.error(\"Prediction error: %s\", e)\n",
    "        return jsonify({'error': f'Prediction error: {e}'}), 400\n"
   ]
  },
  {
   "cell_type": "markdown",
   "id": "e1f41e41-29f0-42b0-b636-8d4134794914",
   "metadata": {},
   "source": [
    "### Route for the root URL"
   ]
  },
  {
   "cell_type": "code",
   "execution_count": 26,
   "id": "ebbaa05d-1f5e-4a5c-82a0-beb6804b8888",
   "metadata": {},
   "outputs": [],
   "source": [
    "@app.route('/')\n",
    "def index():\n",
    "    return 'Welcome to the Sleep Disorder Prediction API!'"
   ]
  },
  {
   "cell_type": "markdown",
   "id": "7aeb16ac-bebb-429f-8425-daed8dd70f62",
   "metadata": {},
   "source": [
    "### Run this"
   ]
  },
  {
   "cell_type": "code",
   "execution_count": 27,
   "id": "f846be58-d6ee-4d4d-bf5c-c2404f830fed",
   "metadata": {},
   "outputs": [
    {
     "name": "stdout",
     "output_type": "stream",
     "text": [
      " * Serving Flask app '__main__'\n",
      " * Debug mode: off\n"
     ]
    },
    {
     "name": "stderr",
     "output_type": "stream",
     "text": [
      "WARNING: This is a development server. Do not use it in a production deployment. Use a production WSGI server instead.\n",
      " * Running on http://127.0.0.1:5000\n",
      "Press CTRL+C to quit\n",
      "127.0.0.1 - - [19/Apr/2024 23:00:53] \"GET / HTTP/1.1\" 200 -\n"
     ]
    }
   ],
   "source": [
    "if __name__ == '__main__':\n",
    "    # app.run(debug=True, port=5000)\n",
    "    app.run(port=5000)"
   ]
  },
  {
   "cell_type": "code",
   "execution_count": null,
   "id": "6f5e6a40-e0ed-4dbf-822a-961d3f258fc3",
   "metadata": {},
   "outputs": [],
   "source": []
  }
 ],
 "metadata": {
  "kernelspec": {
   "display_name": "Python 3 (ipykernel)",
   "language": "python",
   "name": "python3"
  },
  "language_info": {
   "codemirror_mode": {
    "name": "ipython",
    "version": 3
   },
   "file_extension": ".py",
   "mimetype": "text/x-python",
   "name": "python",
   "nbconvert_exporter": "python",
   "pygments_lexer": "ipython3",
   "version": "3.10.12"
  }
 },
 "nbformat": 4,
 "nbformat_minor": 5
}
